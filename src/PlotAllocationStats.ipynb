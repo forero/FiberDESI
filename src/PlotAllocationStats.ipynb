{
 "metadata": {
  "name": ""
 },
 "nbformat": 3,
 "nbformat_minor": 0,
 "worksheets": [
  {
   "cells": [
    {
     "cell_type": "code",
     "collapsed": false,
     "input": [
      "%pylab inline"
     ],
     "language": "python",
     "metadata": {},
     "outputs": [
      {
       "output_type": "stream",
       "stream": "stdout",
       "text": [
        "Populating the interactive namespace from numpy and matplotlib\n"
       ]
      }
     ],
     "prompt_number": 1
    },
    {
     "cell_type": "code",
     "collapsed": false,
     "input": [
      "data = loadtxt(\"../data/output_allocation_stats.dat\")"
     ],
     "language": "python",
     "metadata": {},
     "outputs": [],
     "prompt_number": 15
    },
    {
     "cell_type": "code",
     "collapsed": false,
     "input": [
      "N_LRG = 2\n",
      "N_QSO_I = 3\n",
      "N_QSO_II = 4\n",
      "N_ELG = 5\n",
      "N_TOTAL = 6\n",
      "\n",
      "LRG = 0\n",
      "QSO_I = 1\n",
      "QSO_II = 2\n",
      "ELG = 3\n",
      "\n",
      "field_ID = data[:,0]\n",
      "pass_ID = data[:,1]\n",
      "n_total = data[:,N_TOTAL]\n",
      "n_lrg = data[:,N_LRG]\n",
      "n_qso_I = data[:,N_QSO_I]\n",
      "n_qso_II = data[:,N_QSO_II]\n",
      "n_elg = data[:,N_ELG]"
     ],
     "language": "python",
     "metadata": {},
     "outputs": [],
     "prompt_number": 16
    },
    {
     "cell_type": "code",
     "collapsed": false,
     "input": [
      "n_LRG = 350.0 \n",
      "n_QSO_I = 175.0\n",
      "n_QSO_II = 75.0\n",
      "n_QSO_II_real = 40.0\n",
      "n_ELG = 2500.0"
     ],
     "language": "python",
     "metadata": {},
     "outputs": [],
     "prompt_number": 17
    },
    {
     "cell_type": "code",
     "collapsed": false,
     "input": [
      "plate_scale_data = loadtxt(\"../data/platescale.txt\")\n",
      "plate_scale = plate_scale_data[0,5] #in um/arcsec\n",
      "plate_scale = plate_scale*3600.0/1000.0 # in mm/degree\n",
      "print \"plate scale:\", plate_scale, \"mm/deg\""
     ],
     "language": "python",
     "metadata": {},
     "outputs": [
      {
       "output_type": "stream",
       "stream": "stdout",
       "text": [
        "plate scale: 248.18904 mm/deg\n"
       ]
      }
     ],
     "prompt_number": 18
    },
    {
     "cell_type": "code",
     "collapsed": false,
     "input": [
      "plate_radius = 406.0/plate_scale\n",
      "patrol_radius = 6.0/plate_scale \n",
      "plate_area = pi*(plate_radius)**2\n",
      "print \"The rough footprint of the plate is:\"\n",
      "print pi*(plate_radius)**2, \"degrees\"\n",
      "print \"The patrol radius is:\"\n",
      "print patrol_radius, \"degrees\"\n",
      "print \"The plate radius is:\"\n",
      "print plate_radius, \"degres\""
     ],
     "language": "python",
     "metadata": {},
     "outputs": [
      {
       "output_type": "stream",
       "stream": "stdout",
       "text": [
        "The rough footprint of the plate is:\n",
        "8.40691664655 degrees\n",
        "The patrol radius is:\n",
        "0.0241751207064 degrees\n",
        "The plate radius is:\n",
        "1.63584983446 degres\n"
       ]
      }
     ],
     "prompt_number": 19
    },
    {
     "cell_type": "code",
     "collapsed": false,
     "input": [
      "#These are the expected numbers of galaxies at each pointing\n",
      "n_exp_LRG = n_LRG * plate_area\n",
      "n_exp_QSO_I = n_QSO_I * plate_area\n",
      "n_exp_QSO_II = n_QSO_II * plate_area\n",
      "n_exp_ELG = n_ELG * plate_area\n",
      "print n_exp_LRG, n_exp_QSO_I, n_exp_QSO_II, n_exp_ELG"
     ],
     "language": "python",
     "metadata": {},
     "outputs": [
      {
       "output_type": "stream",
       "stream": "stdout",
       "text": [
        "2942.42082629 1471.21041315 630.518748491 21017.2916164\n"
       ]
      }
     ],
     "prompt_number": 20
    },
    {
     "cell_type": "code",
     "collapsed": false,
     "input": [
      "positioner_data=loadtxt(\"../data/fiberpos.txt\")\n",
      "positioner_x = positioner_data[:,3]\n",
      "n_fiber = size(positioner_x)"
     ],
     "language": "python",
     "metadata": {},
     "outputs": [],
     "prompt_number": 21
    },
    {
     "cell_type": "code",
     "collapsed": false,
     "input": [
      "n_pass = int_(amax(pass_ID)) + 1\n",
      "print n_pass\n",
      "n_field = int_(amax(field_ID)) + 1\n",
      "print n_field"
     ],
     "language": "python",
     "metadata": {},
     "outputs": [
      {
       "output_type": "stream",
       "stream": "stdout",
       "text": [
        "1\n",
        "98\n"
       ]
      }
     ],
     "prompt_number": 22
    },
    {
     "cell_type": "code",
     "collapsed": false,
     "input": [
      "def plot_setup():\n",
      "    fig = figure(figsize=(9.5,6.5))\n",
      "    ax = axes()\n",
      "    ax.set_ylabel(\"$\\mathrm{Histogram}$\",fontsize=40)\n",
      "    ax.set_xlabel(\"$\\mathrm{Used\\ Fibers\\ [\\%]}$\",fontsize=40)\n",
      "\n",
      "    ticklabels_x = ax.get_xticklabels()\n",
      "    ticklabels_y = ax.get_yticklabels()\n",
      "\n",
      "    for label_x in ticklabels_x:\n",
      "        label_x.set_fontsize(20)\n",
      "        label_x.set_family('serif')\n",
      "    for label_y in ticklabels_y:\n",
      "        label_y.set_fontsize(20)\n",
      "        label_y.set_family('serif')"
     ],
     "language": "python",
     "metadata": {},
     "outputs": [],
     "prompt_number": 23
    },
    {
     "cell_type": "markdown",
     "metadata": {},
     "source": [
      "#Allocation stats on each field"
     ]
    },
    {
     "cell_type": "code",
     "collapsed": false,
     "input": [
      "plot_setup()\n",
      "field_index = where(field_ID==0)\n",
      "print n_total[field_index]/n_fiber\n",
      "fractions = empty(0)\n",
      "#ax.set_yscale('log')\n",
      "for i in arange(n_field):\n",
      "    field_index = where(field_ID==i)\n",
      "    fractions = append(fractions, n_total[field_index]/n_fiber)\n",
      "n, bins, patches = hist(fractions, 6, normed=0, color = 'silver')\n",
      "savefig('fiber_allocation_stats_total.pdf',format = 'pdf', transparent=True)"
     ],
     "language": "python",
     "metadata": {},
     "outputs": [
      {
       "output_type": "stream",
       "stream": "stdout",
       "text": [
        "[ 0.9966]\n"
       ]
      },
      {
       "metadata": {},
       "output_type": "display_data",
       "png": "[encoded data removed]",
       "text": [
        "<matplotlib.figure.Figure at 0x2df8150>"
       ]
      }
     ],
     "prompt_number": 24
    },
    {
     "cell_type": "markdown",
     "metadata": {},
     "source": [
      "#Allocation stats on the galaxies \n",
      "This is intented to reproduce Table 2 in Bob Cahn's note \"Fiber Usage and Galaxy Yields\""
     ]
    },
    {
     "cell_type": "code",
     "collapsed": false,
     "input": [
      "tmp_data = loadtxt(\"../data/output_test_allocation_gal.dat\")"
     ],
     "language": "python",
     "metadata": {},
     "outputs": [],
     "prompt_number": 25
    },
    {
     "cell_type": "code",
     "collapsed": false,
     "input": [
      "size_x = 11.0\n",
      "size_y = 10.0\n",
      "# This cut is here to avoid the boundaries\n",
      "index = where((tmp_data[:,0] < size_x) & (tmp_data[:,0]>0.0)& (tmp_data[:,1]<size_y) & (tmp_data[:,1]>0.0)) #region with homogensou covering\n",
      "data = tmp_data[index[0],:]"
     ],
     "language": "python",
     "metadata": {},
     "outputs": [],
     "prompt_number": 27
    },
    {
     "cell_type": "code",
     "collapsed": false,
     "input": [
      "gal_ID = array([LRG,QSO_I,QSO_II,ELG])\n",
      "gal_name = [\"LRG\", \"QSO_I\", \"QSO_II\", \"ELG\"]\n",
      "print shape(data)\n",
      "n_max_pass = 6\n",
      "\n",
      "for gal_i in gal_ID:\n",
      "    print \"\\nstats for gal type:\", gal_name[gal_i]\n",
      "    index_all = where(data[:,2]==gal_i)\n",
      "    index_obs = where((data[:,3]!=0) & (data[:,2]==gal_i))\n",
      "\n",
      "    fraction = 1.0*size(index_obs)/size(index_all)\n",
      "    print \"\\n\\t observed fraction: %f\\n\"%(fraction)\n",
      "    for i_pass in range(n_max_pass):\n",
      "            index = where((data[:,3]==i_pass) & (data[:,2]==gal_i))\n",
      "            surface_density = size(index)/(size_x * size_y)\n",
      "            print \"\\t observed %d times: %f deg^-2\"%(i_pass, surface_density)"
     ],
     "language": "python",
     "metadata": {},
     "outputs": [
      {
       "output_type": "stream",
       "stream": "stdout",
       "text": [
        "(340806, 4)\n",
        "\n",
        "stats for gal type: LRG\n",
        "\n",
        "\t observed fraction: 0.971843\n",
        "\n",
        "\t observed 0 times: 9.836364 deg^-2\n",
        "\t observed 1 times: 18.618182 deg^-2\n",
        "\t observed 2 times: 320.881818 deg^-2\n",
        "\t observed 3 times: 0.000000 deg^-2\n",
        "\t observed 4 times: 0.000000 deg^-2\n",
        "\t observed 5 times: 0.000000 deg^-2\n",
        "\n",
        "stats for gal type: QSO_I\n",
        "\n",
        "\t observed fraction: 0.990491\n",
        "\n",
        "\t observed 0 times: 1.654545 deg^-2"
       ]
      },
      {
       "output_type": "stream",
       "stream": "stdout",
       "text": [
        "\n",
        "\t observed 1 times: 172.336364 deg^-2\n",
        "\t observed 2 times: 0.000000 deg^-2\n",
        "\t observed 3 times: 0.000000 deg^-2\n",
        "\t observed 4 times: 0.000000 deg^-2\n",
        "\t observed 5 times: 0.000000 deg^-2\n",
        "\n",
        "stats for gal type: QSO_II\n",
        "\n",
        "\t observed fraction: 0.995800\n",
        "\n",
        "\t observed 0 times: 0.318182 deg^-2\n",
        "\t observed 1 times: 0.936364 deg^-2\n",
        "\t observed 2 times: 2.472727 deg^-2\n",
        "\t observed 3 times: 7.000000 deg^-2\n",
        "\t observed 4 times: 12.281818 deg^-2\n",
        "\t observed 5 times: 52.745455 deg^-2"
       ]
      },
      {
       "output_type": "stream",
       "stream": "stdout",
       "text": [
        "\n",
        "\n",
        "stats for gal type: ELG\n",
        "\n",
        "\t observed fraction: 0.729567\n",
        "\n",
        "\t observed 0 times: 675.854545 deg^-2\n",
        "\t observed 1 times: 1823.300000 deg^-2"
       ]
      },
      {
       "output_type": "stream",
       "stream": "stdout",
       "text": [
        "\n",
        "\t observed 2 times: 0.000000 deg^-2\n",
        "\t observed 3 times: 0.000000 deg^-2\n",
        "\t observed 4 times: 0.000000 deg^-2\n",
        "\t observed 5 times: 0.000000 deg^-2\n"
       ]
      }
     ],
     "prompt_number": 28
    }
   ],
   "metadata": {}
  }
 ]
}